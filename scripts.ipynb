{
 "cells": [
  {
   "cell_type": "code",
   "execution_count": 8,
   "metadata": {},
   "outputs": [
    {
     "name": "stdout",
     "output_type": "stream",
     "text": [
      "0\n"
     ]
    }
   ],
   "source": [
    "import os\n",
    "count=0\n",
    "faltu=[]\n",
    "for path in os.listdir(\"audio_context\"):\n",
    "    l = path.split('.')\n",
    "    if(l[0][-1]==')'):\n",
    "        print(path)\n",
    "        count+=1\n",
    "        faltu.append(path)\n",
    "print(count)\n",
    "for i in faltu:\n",
    "    if os.path.exists(\"audio_context/\"+i):\n",
    "        os.remove(\"audio_context/\"+i)  # Delete the file\n",
    "        print(f\"File {i} has been deleted.\")\n",
    "    else:\n",
    "        print(f\"File {i} does not exist.\")"
   ]
  },
  {
   "cell_type": "code",
   "execution_count": 12,
   "metadata": {},
   "outputs": [
    {
     "name": "stdout",
     "output_type": "stream",
     "text": [
      "[[[-39.864586]\n",
      "  [-44.34025 ]\n",
      "  [-41.960197]\n",
      "  ...\n",
      "  [-80.      ]\n",
      "  [-80.      ]\n",
      "  [-80.      ]]\n",
      "\n",
      " [[-34.45424 ]\n",
      "  [-37.43702 ]\n",
      "  [-39.39952 ]\n",
      "  ...\n",
      "  [-80.      ]\n",
      "  [-80.      ]\n",
      "  [-80.      ]]\n",
      "\n",
      " [[-27.862799]\n",
      "  [-27.777395]\n",
      "  [-31.019033]\n",
      "  ...\n",
      "  [-80.      ]\n",
      "  [-80.      ]\n",
      "  [-80.      ]]\n",
      "\n",
      " ...\n",
      "\n",
      " [[-68.13036 ]\n",
      "  [-69.05819 ]\n",
      "  [-69.1276  ]\n",
      "  ...\n",
      "  [-80.      ]\n",
      "  [-80.      ]\n",
      "  [-80.      ]]\n",
      "\n",
      " [[-72.05004 ]\n",
      "  [-73.50917 ]\n",
      "  [-76.68206 ]\n",
      "  ...\n",
      "  [-80.      ]\n",
      "  [-80.      ]\n",
      "  [-80.      ]]\n",
      "\n",
      " [[-77.30989 ]\n",
      "  [-80.      ]\n",
      "  [-80.      ]\n",
      "  ...\n",
      "  [-80.      ]\n",
      "  [-80.      ]\n",
      "  [-80.      ]]]\n"
     ]
    }
   ],
   "source": [
    "import numpy as np\n",
    "a=np.load(\"x_sarcasm_train.npy\")\n",
    "print((a[0]))"
   ]
  }
 ],
 "metadata": {
  "kernelspec": {
   "display_name": "Python 3",
   "language": "python",
   "name": "python3"
  },
  "language_info": {
   "codemirror_mode": {
    "name": "ipython",
    "version": 3
   },
   "file_extension": ".py",
   "mimetype": "text/x-python",
   "name": "python",
   "nbconvert_exporter": "python",
   "pygments_lexer": "ipython3",
   "version": "3.10.11"
  }
 },
 "nbformat": 4,
 "nbformat_minor": 2
}
